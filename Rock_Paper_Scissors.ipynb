{
  "nbformat": 4,
  "nbformat_minor": 0,
  "metadata": {
    "colab": {
      "provenance": [],
      "authorship_tag": "ABX9TyMLZhozFxYl25Fmm7sXmFRa",
      "include_colab_link": true
    },
    "kernelspec": {
      "name": "python3",
      "display_name": "Python 3"
    },
    "language_info": {
      "name": "python"
    }
  },
  "cells": [
    {
      "cell_type": "markdown",
      "metadata": {
        "id": "view-in-github",
        "colab_type": "text"
      },
      "source": [
        "<a href=\"https://colab.research.google.com/github/C0deBl0cks/YouTube/blob/main/Rock_Paper_Scissors.ipynb\" target=\"_parent\"><img src=\"https://colab.research.google.com/assets/colab-badge.svg\" alt=\"Open In Colab\"/></a>"
      ]
    },
    {
      "cell_type": "code",
      "source": [
        "\"\"\"Welcome To CodeBlocks\"\"\""
      ],
      "metadata": {
        "id": "0Qrllqsd6mit"
      },
      "execution_count": 14,
      "outputs": []
    },
    {
      "cell_type": "code",
      "source": [
        "import random\n",
        "\n",
        "choice = ['rock', 'paper', 'scissors']\n",
        "\n",
        "computer = random.choice(choice)\n",
        "\n",
        "user = input('Enter your choice(rock/paper/scissors): ')\n",
        "\n",
        "print('Computer: ', computer)\n",
        "print(\"You: \", user)\n",
        "\n",
        "\n",
        "if computer == user:\n",
        "  print('Draw!!')\n",
        "elif computer == 'rock' and user == 'scissors':\n",
        "  print('Computer Wins!!!')\n",
        "elif computer == 'paper' and user == 'rock':\n",
        "  print('Computer Wins!!!')\n",
        "elif computer == 'scissors' and user == 'paper':\n",
        "  print('Computer Wins!!!')\n",
        "else:\n",
        "  print('You Won!!')\n"
      ],
      "metadata": {
        "colab": {
          "base_uri": "https://localhost:8080/"
        },
        "id": "g_g1vhqR9DbP",
        "outputId": "4ce22db7-41b3-4a40-9c6e-349c03221708"
      },
      "execution_count": 29,
      "outputs": [
        {
          "output_type": "stream",
          "name": "stdout",
          "text": [
            "Enter your choice(rock/paper/scissors): paper\n",
            "Computer:  scissors\n",
            "You:  paper\n",
            "Computer Wins!!!\n"
          ]
        }
      ]
    }
  ]
}